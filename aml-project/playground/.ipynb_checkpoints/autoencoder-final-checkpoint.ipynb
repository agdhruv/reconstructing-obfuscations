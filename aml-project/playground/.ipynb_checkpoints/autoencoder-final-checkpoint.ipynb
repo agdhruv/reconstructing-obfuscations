{
 "cells": [
  {
   "cell_type": "code",
   "execution_count": null,
   "metadata": {},
   "outputs": [],
   "source": [
    "# all the imports\n",
    "from PIL import Image, ImageFilter\n",
    "from tensorflow.keras.preprocessing.image import ImageDataGenerator\n",
    "from tensorflow.keras import backend as K\n",
    "from tensorflow.keras.models import Model\n",
    "from tensorflow.keras.layers import Input, Conv2D, MaxPooling2D, UpSampling2D\n",
    "from tensorflow.keras.applications.vgg16 import VGG16\n",
    "import numpy as np\n",
    "import matplotlib.pyplot as plt\n",
    "import glob\n",
    "import pickle"
   ]
  },
  {
   "cell_type": "code",
   "execution_count": null,
   "metadata": {},
   "outputs": [],
   "source": [
    "# define function to pixelate images\n",
    "\n",
    "DOWNSAMPLE_TO = 64\n",
    "def pixelate_image(im):\n",
    "    # convert to PIL image\n",
    "    img = Image.fromarray(np.uint8(im))\n",
    "\n",
    "    # Resize smoothly down to 32x32 pixels using BILINEAR interpolation\n",
    "    small_img = img.resize((DOWNSAMPLE_TO,DOWNSAMPLE_TO),resample=Image.BILINEAR)\n",
    "    \n",
    "    # Scale back up using NEAREST to original size\n",
    "    pixelated_img = small_img.resize(img.size,resample=Image.NEAREST)\n",
    "    \n",
    "    return np.array(pixelated_img, dtype='float') / 255.0"
   ]
  },
  {
   "cell_type": "code",
   "execution_count": null,
   "metadata": {},
   "outputs": [],
   "source": [
    "# define function to blur images\n",
    "\n",
    "BLUR_INTENSITY = 3\n",
    "def blur_image(im):\n",
    "    # convert to PIL image\n",
    "    img = Image.fromarray(np.uint8(im))\n",
    "\n",
    "    # Get the blurred image using Gaussian Blur\n",
    "    blurred_img = img.filter(ImageFilter.GaussianBlur(radius=BLUR_INTENSITY))\n",
    "    \n",
    "    return np.array(blurred_img, dtype='float') / 255.0"
   ]
  },
  {
   "cell_type": "markdown",
   "metadata": {},
   "source": [
    "# Create dataset (using generators)"
   ]
  },
  {
   "cell_type": "code",
   "execution_count": null,
   "metadata": {},
   "outputs": [],
   "source": [
    "# create data generators to use on-the-fly\n",
    "\n",
    "# for original images\n",
    "original_datagen = ImageDataGenerator(rescale=1/255.0)\n",
    "\n",
    "# for pixelated images\n",
    "pixelate_datagen = ImageDataGenerator(preprocessing_function=pixelate_image)\n",
    "\n",
    "# for blurred images\n",
    "blur_datagen = ImageDataGenerator(preprocessing_function=blur_image)"
   ]
  },
  {
   "cell_type": "code",
   "execution_count": null,
   "metadata": {},
   "outputs": [],
   "source": [
    "# load and iterate through the training dataset\n",
    "\n",
    "seed = 42\n",
    "\n",
    "original_generator = original_datagen.flow_from_directory(\n",
    "    '../lfw/',\n",
    "    class_mode=None,\n",
    "    target_size=(256, 256),\n",
    "    batch_size=128,\n",
    "    seed=seed)\n",
    "\n",
    "pixelated_generator = pixelate_datagen.flow_from_directory(\n",
    "    '../lfw/',\n",
    "    class_mode=None,\n",
    "    target_size=(256, 256),\n",
    "    batch_size=128,\n",
    "    seed=seed)\n",
    "\n",
    "blurred_generator = blur_datagen.flow_from_directory(\n",
    "    '../lfw/',\n",
    "    class_mode=None,\n",
    "    target_size=(256, 256),\n",
    "    batch_size=128,\n",
    "    seed=seed)\n",
    "\n",
    "pixelated_train_generator = zip(pixelated_generator, original_generator)\n",
    "blurred_train_generator = zip(blurred_generator, original_generator)"
   ]
  },
  {
   "cell_type": "code",
   "execution_count": null,
   "metadata": {},
   "outputs": [],
   "source": [
    "x,y = next(pixelated_train_generator)"
   ]
  },
  {
   "cell_type": "code",
   "execution_count": null,
   "metadata": {},
   "outputs": [],
   "source": [
    "i = 5\n",
    "plt.imshow(x[i])\n",
    "plt.show()\n",
    "plt.imshow(y[i])\n",
    "plt.show()"
   ]
  },
  {
   "cell_type": "markdown",
   "metadata": {},
   "source": [
    "# Training an autoencoder using these datagenerators"
   ]
  },
  {
   "cell_type": "code",
   "execution_count": null,
   "metadata": {},
   "outputs": [],
   "source": [
    "# set image data format manually to avoid potential confusion\n",
    "K.set_image_data_format('channels_last')\n",
    "\n",
    "image_shape = (256, 256, 3)"
   ]
  },
  {
   "cell_type": "code",
   "execution_count": null,
   "metadata": {},
   "outputs": [],
   "source": [
    "def perceptual_loss(y_true, y_pred):\n",
    "    vgg = VGG16(include_top=False, weights='imagenet', input_shape=image_shape)\n",
    "    loss_model = Model(inputs=vgg.input, outputs=vgg.get_layer('block3_conv3').output)\n",
    "    loss_model.trainable = False\n",
    "    return K.mean(K.square(loss_model(y_true) - loss_model(y_pred)))"
   ]
  },
  {
   "cell_type": "code",
   "execution_count": null,
   "metadata": {},
   "outputs": [],
   "source": [
    "def wasserstein_loss(y_true, y_pred):\n",
    "    return K.mean(y_true*y_pred)"
   ]
  },
  {
   "cell_type": "code",
   "execution_count": null,
   "metadata": {},
   "outputs": [],
   "source": [
    "input_img = Input(shape=(256, 256, 3))  # adapt this if using `channels_first` image data format\n",
    "\n",
    "x = Conv2D(32, (3, 3), activation='relu', padding='same')(input_img)\n",
    "x = MaxPooling2D((2, 2), padding='same')(x)\n",
    "x = Conv2D(32, (3, 3), activation='relu', padding='same')(x)\n",
    "x = MaxPooling2D((2, 2), padding='same')(x)\n",
    "x = Conv2D(32, (3, 3), activation='relu', padding='same')(x)\n",
    "encoded = MaxPooling2D((2, 2), padding='same')(x)\n",
    "\n",
    "x = Conv2D(32, (3, 3), activation='relu', padding='same')(encoded)\n",
    "x = UpSampling2D((2, 2))(x)\n",
    "x = Conv2D(32, (3, 3), activation='relu', padding='same')(x)\n",
    "x = UpSampling2D((2, 2))(x)\n",
    "x = Conv2D(32, (3, 3), activation='relu', padding='same')(x)\n",
    "x = UpSampling2D((2, 2))(x)\n",
    "decoded = Conv2D(3, (3, 3), activation='sigmoid', padding='same')(x)\n",
    "\n",
    "autoencoder = Model(input_img, decoded)\n",
    "autoencoder.compile(optimizer='adadelta', loss=perceptual_loss)\n",
    "# autoencoder.summary()"
   ]
  },
  {
   "cell_type": "code",
   "execution_count": null,
   "metadata": {
    "scrolled": true
   },
   "outputs": [],
   "source": [
    "autoencoder.fit_generator(pixelated_train_generator,\n",
    "                steps_per_epoch=10,\n",
    "                epochs=10,\n",
    "                verbose=1\n",
    "                )"
   ]
  },
  {
   "cell_type": "code",
   "execution_count": null,
   "metadata": {},
   "outputs": [],
   "source": [
    "# save model\n",
    "autoencoder.save('autoencoder_datagen.h5')"
   ]
  },
  {
   "cell_type": "code",
   "execution_count": null,
   "metadata": {},
   "outputs": [],
   "source": [
    "predicted = autoencoder.predict_generator(pixelated_generator, steps=10, verbose=1)"
   ]
  },
  {
   "cell_type": "code",
   "execution_count": null,
   "metadata": {},
   "outputs": [],
   "source": [
    "print(predicted.shape)\n",
    "plt.imshow(predicted[0])\n",
    "plt.show()"
   ]
  },
  {
   "cell_type": "code",
   "execution_count": null,
   "metadata": {},
   "outputs": [],
   "source": [
    "img_path = '../lfw/Pedro_Solbes/Pedro_Solbes_0002.jpg'\n",
    "img = Image.open(img_path)\n",
    "img = img.resize((256, 256), resample=Image.BILINEAR)\n",
    "\n",
    "plt.imshow(np.array(img))\n",
    "plt.show()\n",
    "\n",
    "# Resize smoothly down to 32x32 pixels using BILINEAR interpolation\n",
    "small_img = img.resize((32,32),resample=Image.BILINEAR)\n",
    "\n",
    "# Scale back up using NEAREST to original size\n",
    "pixelated_img = small_img.resize(img.size,resample=Image.NEAREST)\n",
    "\n",
    "plt.imshow(np.array(pixelated_img))\n",
    "plt.show()\n",
    "\n",
    "X_pred = [np.array(pixelated_img, dtype=\"float\") / 255.0]\n",
    "X_pred = np.array(X_pred)\n",
    "\n",
    "predicted = autoencoder.predict(X_pred)\n",
    "\n",
    "print(predicted.shape)\n",
    "plt.imshow(predicted[0])\n",
    "plt.show()"
   ]
  },
  {
   "cell_type": "code",
   "execution_count": null,
   "metadata": {},
   "outputs": [],
   "source": []
  }
 ],
 "metadata": {
  "kernelspec": {
   "display_name": "Python 3",
   "language": "python",
   "name": "python3"
  },
  "language_info": {
   "codemirror_mode": {
    "name": "ipython",
    "version": 3
   },
   "file_extension": ".py",
   "mimetype": "text/x-python",
   "name": "python",
   "nbconvert_exporter": "python",
   "pygments_lexer": "ipython3",
   "version": "3.6.8"
  }
 },
 "nbformat": 4,
 "nbformat_minor": 2
}
